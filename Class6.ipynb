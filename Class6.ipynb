{
  "nbformat": 4,
  "nbformat_minor": 0,
  "metadata": {
    "colab": {
      "provenance": [],
      "authorship_tag": "ABX9TyMx9leUi/xdbDSvXKabgg47",
      "include_colab_link": true
    },
    "kernelspec": {
      "name": "python3",
      "display_name": "Python 3"
    },
    "language_info": {
      "name": "python"
    }
  },
  "cells": [
    {
      "cell_type": "markdown",
      "metadata": {
        "id": "view-in-github",
        "colab_type": "text"
      },
      "source": [
        "<a href=\"https://colab.research.google.com/github/junkyuhufs/Class2022Fall/blob/main/Class6.ipynb\" target=\"_parent\"><img src=\"https://colab.research.google.com/assets/colab-badge.svg\" alt=\"Open In Colab\"/></a>"
      ]
    },
    {
      "cell_type": "markdown",
      "source": [
        "#Image processing\n",
        "\n",
        "by virtue of Dr. Hosung Nam"
      ],
      "metadata": {
        "id": "BSAVS6hya4e6"
      }
    },
    {
      "cell_type": "markdown",
      "source": [
        "[Understanding RGB](https://www.w3schools.com/html/html_colors_rgb.asp)"
      ],
      "metadata": {
        "id": "NOotTVTtbBO5"
      }
    },
    {
      "cell_type": "code",
      "execution_count": null,
      "metadata": {
        "id": "28dbHq4xaz4X"
      },
      "outputs": [],
      "source": [
        "import cv2 # openCV (computer vision) package\n",
        "from google.colab.patches import cv2_imshow # substitution for cv2.imshow\n",
        "import matplotlib.pylab as plt"
      ]
    },
    {
      "cell_type": "markdown",
      "source": [
        "OpenCV imread, imwrite and imshow indeed all work with the BGR order, so there is no need to change the order when you read an image with cv2.imread and then want to show it with cv2.imshow. While BGR is used consistently throughout OpenCV, most other image processing libraries use the RGB ordering. If you want to use matplotlib's imshow but read the image with OpenCV, you would need to convert from BGR to RGB."
      ],
      "metadata": {
        "id": "n7jQ70RVbmnB"
      }
    },
    {
      "cell_type": "markdown",
      "source": [
        "##download/save an image from Urls"
      ],
      "metadata": {
        "id": "-JCyxDr8bptK"
      }
    },
    {
      "cell_type": "code",
      "source": [],
      "metadata": {
        "id": "OEbZ4Edbbto2"
      },
      "execution_count": null,
      "outputs": []
    }
  ]
}