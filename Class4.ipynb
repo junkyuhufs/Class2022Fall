{
  "nbformat": 4,
  "nbformat_minor": 0,
  "metadata": {
    "colab": {
      "provenance": [],
      "authorship_tag": "ABX9TyP4n0isx6WrgmY2l5NAb2To",
      "include_colab_link": true
    },
    "kernelspec": {
      "name": "python3",
      "display_name": "Python 3"
    },
    "language_info": {
      "name": "python"
    },
    "accelerator": "GPU"
  },
  "cells": [
    {
      "cell_type": "markdown",
      "metadata": {
        "id": "view-in-github",
        "colab_type": "text"
      },
      "source": [
        "<a href=\"https://colab.research.google.com/github/junkyuhufs/Class2022Fall/blob/main/Class4.ipynb\" target=\"_parent\"><img src=\"https://colab.research.google.com/assets/colab-badge.svg\" alt=\"Open In Colab\"/></a>"
      ]
    },
    {
      "cell_type": "markdown",
      "source": [
        "# REST API 사용 (데이터 포맷: JSON)\n",
        "# requests package"
      ],
      "metadata": {
        "id": "VhVtUF-XSXtp"
      }
    },
    {
      "cell_type": "markdown",
      "source": [
        "[공공데이터포털](https://data.go.kr)"
      ],
      "metadata": {
        "id": "qr0cXzLJXotN"
      }
    },
    {
      "cell_type": "code",
      "source": [
        "import requests"
      ],
      "metadata": {
        "id": "rlIVRe3tC6sL"
      },
      "execution_count": 1,
      "outputs": []
    },
    {
      "cell_type": "markdown",
      "source": [
        "[한국환경공단_미세먼지_경보발령](https://www.data.go.kr/data/15073885/openapi.do)"
      ],
      "metadata": {
        "id": "XE9yw77UcIj_"
      }
    },
    {
      "cell_type": "code",
      "source": [
        "URL = ('http://apis.data.go.kr/B552584/ArpltnStatsSvc/'\n",
        "      'getCtprvnMesureSidoLIst?'\n",
        "      'sidoName=서울'\n",
        "      '&searchCondition=hour'\n",
        "      '&pageNo=1'\n",
        "      '&numOfRows=100'\n",
        "      '&returnType=json'\n",
        "      '&serviceKey=miH%2BZXg85lQy4%2FkmhffvygXDIFiTwisriSLxtyECSzw6hxTVK7yI8QKIOc7mP7LEqCnhBGuj6iW1gZW65dum7A%3D%3D')\n",
        "response = requests.get(URL)"
      ],
      "metadata": {
        "id": "te_F-LHCDGsD"
      },
      "execution_count": 2,
      "outputs": []
    },
    {
      "cell_type": "markdown",
      "source": [
        "json으로 담긴 내용 확인"
      ],
      "metadata": {
        "id": "IaUXW9sngVBO"
      }
    },
    {
      "cell_type": "code",
      "source": [
        "r = response.json()\n",
        "r"
      ],
      "metadata": {
        "id": "ZRmjl1tVDrM9"
      },
      "execution_count": null,
      "outputs": []
    },
    {
      "cell_type": "markdown",
      "source": [
        "[jason viewer](https://jsonviewer.stack.hu/) (copy json here to view json)"
      ],
      "metadata": {
        "id": "rY9Gm39CDQ8E"
      }
    },
    {
      "cell_type": "code",
      "source": [
        "import pandas as pd"
      ],
      "metadata": {
        "id": "Juy943DkYtBY"
      },
      "execution_count": 5,
      "outputs": []
    },
    {
      "cell_type": "code",
      "source": [
        "items = r['response']['body']['items']\n",
        "\n",
        "cityName = [item['cityName'] for item in items]\n",
        "pm10Value = [item['pm10Value'] for item in items]\n",
        "pm25Value = [item['pm25Value'] for item in items]\n",
        "so2Value = [item['so2Value'] for item in items]\n",
        "coValue = [item['coValue'] for item in items]\n",
        "o3Value = [item['o3Value'] for item in items]\n",
        "no2Value = [item['no2Value'] for item in items]\n",
        "\n",
        "cityName = pd.Series(cityName)\n",
        "pm10Value = pd.Series(pm10Value)   \n",
        "pm25Value = pd.Series(pm25Value)\n",
        "so2Value = pd.Series(so2Value)\n",
        "coValue = pd.Series(coValue)\n",
        "o3Value = pd.Series(o3Value)\n",
        "no2Value = pd.Series(no2Value)\n",
        "\n",
        "df = pd.DataFrame({ 'cityName': cityName, 'pm10Value': pm10Value, 'pm25Value': pm25Value, 'so2Value': so2Value, 'coValue': coValue, 'o3Value': o3Value, 'no2Value': no2Value})"
      ],
      "metadata": {
        "id": "0WOvEGrXD0z8"
      },
      "execution_count": 6,
      "outputs": []
    },
    {
      "cell_type": "code",
      "source": [
        "df"
      ],
      "metadata": {
        "id": "g-TKJLG4ZCdX"
      },
      "execution_count": null,
      "outputs": []
    },
    {
      "cell_type": "code",
      "source": [
        "def test(sidoName):\n",
        "  URL = ('http://apis.data.go.kr/B552584/ArpltnStatsSvc/'\n",
        "      'getCtprvnMesureSidoLIst?'\n",
        "      'sidoName='+sidoName+\n",
        "      '&searchCondition=hour'\n",
        "      '&pageNo=1'\n",
        "      '&numOfRows=100'\n",
        "      '&returnType=json'\n",
        "      '&serviceKey=miH%2BZXg85lQy4%2FkmhffvygXDIFiTwisriSLxtyECSzw6hxTVK7yI8QKIOc7mP7LEqCnhBGuj6iW1gZW65dum7A%3D%3D')\n",
        "  \n",
        "  response = requests.get(URL)\n",
        "  r = response.json()\n",
        "  items = r['response']['body']['items']\n",
        "\n",
        "  cityName = [item['cityName'] for item in items]\n",
        "  pm10Value = [item['pm10Value'] for item in items]\n",
        "  pm25Value = [item['pm25Value'] for item in items]\n",
        "  so2Value = [item['so2Value'] for item in items]\n",
        "  coValue = [item['coValue'] for item in items]\n",
        "  o3Value = [item['o3Value'] for item in items]\n",
        "  no2Value = [item['no2Value'] for item in items]\n",
        "\n",
        "  cityName = pd.Series(cityName)\n",
        "  pm10Value = pd.Series(pm10Value)   \n",
        "  pm25Value = pd.Series(pm25Value)\n",
        "  so2Value = pd.Series(so2Value)\n",
        "  coValue = pd.Series(coValue)\n",
        "  o3Value = pd.Series(o3Value)\n",
        "  no2Value = pd.Series(no2Value)\n",
        "\n",
        "  df = pd.DataFrame({ 'cityName': cityName, 'pm10Value': pm10Value, 'pm25Value': pm25Value, 'so2Value': so2Value, 'coValue': coValue, 'o3Value': o3Value, 'no2Value': no2Value})\n",
        "  return df"
      ],
      "metadata": {
        "id": "dYE45ghgD72c"
      },
      "execution_count": 7,
      "outputs": []
    },
    {
      "cell_type": "code",
      "source": [
        "df"
      ],
      "metadata": {
        "id": "WlLiJQhqY-lX"
      },
      "execution_count": null,
      "outputs": []
    },
    {
      "cell_type": "markdown",
      "source": [
        "# Gradio intro"
      ],
      "metadata": {
        "id": "layv4zI2Q-3h"
      }
    },
    {
      "cell_type": "code",
      "execution_count": 10,
      "metadata": {
        "id": "QXfkjywqQuWt"
      },
      "outputs": [],
      "source": [
        "def sum(a, b):\n",
        "\n",
        "  c = int(a + b)\n",
        "  c = '정답은 ' + str(c) + '입니다'\n",
        "  return c"
      ]
    },
    {
      "cell_type": "code",
      "source": [
        "sum(2,3)"
      ],
      "metadata": {
        "id": "9L30cmHgRFFI"
      },
      "execution_count": null,
      "outputs": []
    },
    {
      "cell_type": "code",
      "source": [
        "!pip install gradio"
      ],
      "metadata": {
        "id": "tcYlFvVWRINu"
      },
      "execution_count": null,
      "outputs": []
    },
    {
      "cell_type": "code",
      "source": [
        "import gradio as gr"
      ],
      "metadata": {
        "id": "EH5sagQ6RLc-"
      },
      "execution_count": 13,
      "outputs": []
    },
    {
      "cell_type": "code",
      "source": [
        "iface = gr.Interface(sum, inputs = [\"number\", \"number\"], outputs = [\"text\"])\n",
        "iface.launch()"
      ],
      "metadata": {
        "id": "mnDI7tpgROL-"
      },
      "execution_count": null,
      "outputs": []
    },
    {
      "cell_type": "code",
      "source": [
        "iface = gr.Interface(sum, [gr.inputs.Number(label='input1'), gr.inputs.Number(label='input2')], gr.outputs.Textbox(label='answer'))\n",
        "iface.launch()"
      ],
      "metadata": {
        "id": "TxA9URQlRQ9O"
      },
      "execution_count": null,
      "outputs": []
    },
    {
      "cell_type": "markdown",
      "source": [
        "# Requests & Gradio (미세먼지)"
      ],
      "metadata": {
        "id": "vhf8SlpYG6-E"
      }
    },
    {
      "cell_type": "code",
      "source": [
        "!pip install gradio\n",
        "import gradio as gr\n",
        "import requests\n",
        "import pandas as pd"
      ],
      "metadata": {
        "id": "fjS2A5ApShUp"
      },
      "execution_count": null,
      "outputs": []
    },
    {
      "cell_type": "code",
      "source": [
        "URL = ('http://apis.data.go.kr/B552584/ArpltnStatsSvc/'\n",
        "      'getCtprvnMesureSidoLIst?'\n",
        "      'sidoName=서울'\n",
        "      '&searchCondition=hour'\n",
        "      '&pageNo=1'\n",
        "      '&numOfRows=100'\n",
        "      '&returnType=json'\n",
        "      '&serviceKey=miH%2BZXg85lQy4%2FkmhffvygXDIFiTwisriSLxtyECSzw6hxTVK7yI8QKIOc7mP7LEqCnhBGuj6iW1gZW65dum7A%3D%3D')\n",
        "response = requests.get(URL)"
      ],
      "metadata": {
        "id": "vcN5ZLzESpyR"
      },
      "execution_count": null,
      "outputs": []
    },
    {
      "cell_type": "markdown",
      "source": [
        "[json](https://jsonviewer.stack.hu/) (copy json here to view json)"
      ],
      "metadata": {
        "id": "R4To7OHVS0cj"
      }
    },
    {
      "cell_type": "code",
      "source": [
        "r = response.json()\n",
        "r"
      ],
      "metadata": {
        "id": "PTz04SXcSvUR"
      },
      "execution_count": null,
      "outputs": []
    },
    {
      "cell_type": "code",
      "source": [
        "items = r['response']['body']['items']\n",
        "\n",
        "cityName = [item['cityName'] for item in items]\n",
        "pm10Value = [item['pm10Value'] for item in items]\n",
        "pm25Value = [item['pm25Value'] for item in items]\n",
        "so2Value = [item['so2Value'] for item in items]\n",
        "coValue = [item['coValue'] for item in items]\n",
        "o3Value = [item['o3Value'] for item in items]\n",
        "no2Value = [item['no2Value'] for item in items]\n",
        "\n",
        "cityName = pd.Series(cityName)\n",
        "pm10Value = pd.Series(pm10Value)   \n",
        "pm25Value = pd.Series(pm25Value)\n",
        "so2Value = pd.Series(so2Value)\n",
        "coValue = pd.Series(coValue)\n",
        "o3Value = pd.Series(o3Value)\n",
        "no2Value = pd.Series(no2Value)\n",
        "\n",
        "df = pd.DataFrame({ 'cityName': cityName, 'pm10Value': pm10Value, 'pm25Value': pm25Value, 'so2Value': so2Value, 'coValue': coValue, 'o3Value': o3Value, 'no2Value': no2Value})"
      ],
      "metadata": {
        "id": "Q2B2E90eTEbC"
      },
      "execution_count": 18,
      "outputs": []
    },
    {
      "cell_type": "code",
      "source": [
        "def test(sidoName):\n",
        "  URL = ('http://apis.data.go.kr/B552584/ArpltnStatsSvc/'\n",
        "      'getCtprvnMesureSidoLIst?'\n",
        "      'sidoName='+sidoName+\n",
        "      '&searchCondition=hour'\n",
        "      '&pageNo=1'\n",
        "      '&numOfRows=100'\n",
        "      '&returnType=json'\n",
        "      '&serviceKey=miH%2BZXg85lQy4%2FkmhffvygXDIFiTwisriSLxtyECSzw6hxTVK7yI8QKIOc7mP7LEqCnhBGuj6iW1gZW65dum7A%3D%3D')\n",
        "  \n",
        "  response = requests.get(URL)\n",
        "  r = response.json()\n",
        "  items = r['response']['body']['items']\n",
        "\n",
        "  cityName = [item['cityName'] for item in items]\n",
        "  pm10Value = [item['pm10Value'] for item in items]\n",
        "  pm25Value = [item['pm25Value'] for item in items]\n",
        "  so2Value = [item['so2Value'] for item in items]\n",
        "  coValue = [item['coValue'] for item in items]\n",
        "  o3Value = [item['o3Value'] for item in items]\n",
        "  no2Value = [item['no2Value'] for item in items]\n",
        "\n",
        "  cityName = pd.Series(cityName)\n",
        "  pm10Value = pd.Series(pm10Value)   \n",
        "  pm25Value = pd.Series(pm25Value)\n",
        "  so2Value = pd.Series(so2Value)\n",
        "  coValue = pd.Series(coValue)\n",
        "  o3Value = pd.Series(o3Value)\n",
        "  no2Value = pd.Series(no2Value)\n",
        "\n",
        "  df = pd.DataFrame({ 'cityName': cityName, 'pm10Value': pm10Value, 'pm25Value': pm25Value, 'so2Value': so2Value, 'coValue': coValue, 'o3Value': o3Value, 'no2Value': no2Value})\n",
        "  return df"
      ],
      "metadata": {
        "id": "iG9hkIiHTMk7"
      },
      "execution_count": null,
      "outputs": []
    },
    {
      "cell_type": "code",
      "source": [
        "iface = gr.Interface(test, gr.inputs.Dropdown(['서울', '부산', '대구', '인천', '광주', '대전', '울산', '경기', '강원', '충북', '충남', '전북', '전남', '경북', '경남', '제주', '세종']), outputs=['dataframe'])\n",
        "iface.launch(debug=True)"
      ],
      "metadata": {
        "id": "butPjdQ8TWA7",
        "outputId": "f60aecac-c515-4b5b-b87a-168e11d38d72",
        "colab": {
          "base_uri": "https://localhost:8080/",
          "height": 667
        }
      },
      "execution_count": null,
      "outputs": [
        {
          "output_type": "stream",
          "name": "stderr",
          "text": [
            "/usr/local/lib/python3.7/dist-packages/gradio/inputs.py:217: UserWarning: Usage of gradio.inputs is deprecated, and will not be supported in the future, please import your component from gradio.components\n",
            "  \"Usage of gradio.inputs is deprecated, and will not be supported in the future, please import your component from gradio.components\",\n",
            "/usr/local/lib/python3.7/dist-packages/gradio/deprecation.py:40: UserWarning: `optional` parameter is deprecated, and it has no effect\n",
            "  warnings.warn(value)\n"
          ]
        },
        {
          "output_type": "stream",
          "name": "stdout",
          "text": [
            "Colab notebook detected. This cell will run indefinitely so that you can see errors and logs. To turn off, set debug=False in launch().\n",
            "Running on public URL: https://24156.gradio.app\n",
            "\n",
            "This share link expires in 72 hours. For free permanent hosting, check out Spaces: https://huggingface.co/spaces\n"
          ]
        },
        {
          "output_type": "display_data",
          "data": {
            "text/plain": [
              "<IPython.core.display.HTML object>"
            ],
            "text/html": [
              "<div><iframe src=\"https://24156.gradio.app\" width=\"900\" height=\"500\" allow=\"autoplay; camera; microphone; clipboard-read; clipboard-write;\" frameborder=\"0\" allowfullscreen></iframe></div>"
            ]
          },
          "metadata": {}
        }
      ]
    },
    {
      "cell_type": "markdown",
      "source": [
        "Stock example"
      ],
      "metadata": {
        "id": "Sk87moaQETWM"
      }
    },
    {
      "cell_type": "code",
      "source": [
        "!pip install gradio\n",
        "import gradio as gr\n",
        "import requests\n",
        "import pandas as pd"
      ],
      "metadata": {
        "id": "UUP86rFkEWpj"
      },
      "execution_count": null,
      "outputs": []
    },
    {
      "cell_type": "markdown",
      "source": [
        "basDt - 검색값과 기준일자가 일치하는 데이터를 검색 e.g. 20220331\n",
        "\n",
        "beginBasDt - 기준일자가 검색값보다 크거나 같은 데이터를 검색\n",
        "\n",
        "endBasDt - 기준일자가 검색값보다 작은 데이터를 검색\n",
        "\n",
        "likeBasDt - 기준일자값이 검색값을 포함하는 데이터를 검색\n",
        "\n",
        "likeSrtnCd - 단축코드가 검색값을 포함하는 데이터를 검색 e.g. 279600\n",
        "\n",
        "isinCd - 검색값과 ISIN코드이 일치하는 데이터를 검색 e.g. KR7279600001\n",
        "\n",
        "likeIsinCd - ISIN코드가 검색값을 포함하는 데이터를 검색\n",
        "\n",
        "itmsNm - 검색값과 종목명이 일치하는 데이터를 검색 e.g. 미디어젠\n",
        "\n",
        "likeItmsNm - 종목명이 검색값을 포함하는 데이터를 검색\n",
        "\n",
        "mrktCls - 검색값과 시장구분이 일치하는 데이터를 검색 e.g. KOSDAQ\n",
        "\n",
        "beginVs - 대비가 검색값보다 크거나 같은 데이터를 검색 e.g. 0\n",
        "\n",
        "endVs - 대비가 검색값보다 작은 데이터를 검색\n",
        "\n",
        "beginFltRt - 등락률이 검색값보다 크거나 같은 데이터를 검색 e.g. 0\n",
        "\n",
        "endFltRt - 등락률이 검색값보다 작은 데이터를 검색\n",
        "\n",
        "beginTrqu - 거래량이 검색값보다 크거나 같은 데이터를 검색 e.g. 8012\n",
        "\n",
        "endTrqu - 거래량이 검색값보다 작은 데이터를 검색\n",
        "\n",
        "beginTrPrc - 거래대금이 검색값보다 크거나 같은 데이터를 검색 e.g. 100745550\n",
        "\n",
        "endTrPrc - 거래대금이 검색값보다 작은 데이터를 검색\n",
        "\n",
        "beginLstgStCnt - 상장주식수가 검색값보다 크거나 같은 데이터를 검색 e.g. 4684781\n",
        "\n",
        "endLstgStCnt - 상장주식수가 검색값보다 작은 데이터를 검색\n",
        "\n",
        "beginMrktTotAmt - 시가총액이 검색값보다 크거나 같은 데이터를 검색 e.g. 59262479650\n",
        "\n",
        "endMrktTotAmt - 시가총액이 검색값보다 작은 데이터를 검색\n",
        "\n",
        "{'response': {'body': {'items': {'item': [{'basDt': '20220331', 'clpr': '12650', 'fltRt': '0', 'hipr': '12700', 'isinCd': 'KR7279600001', 'itmsNm': '미디어젠', 'lopr': '12450', 'lstgStCnt': '4684781', 'mkp': '12650', 'mrktCtg': 'KOSDAQ', 'mrktTotAmt': '59262479650', 'srtnCd': '279600', 'trPrc': '100745550', 'trqu': '8012', 'vs': '0'}]}, 'numOfRows': 1, 'pageNo': 1, 'totalCount': 555}, 'header': {'resultCode': '00', 'resultMsg': 'NORMAL SERVICE.'}}}"
      ],
      "metadata": {
        "id": "i_X-YVfjEa3l"
      }
    },
    {
      "cell_type": "code",
      "source": [
        "URL = ('https://api.odcloud.kr/api/GetStockSecuritiesInfoService/v1/getStockPriceInfo?'\n",
        "      'resultType=json'\n",
        "      '&serviceKey=miH%2BZXg85lQy4%2FkmhffvygXDIFiTwisriSLxtyECSzw6hxTVK7yI8QKIOc7mP7LEqCnhBGuj6iW1gZW65dum7A%3D%3D')\n",
        "\n",
        "response = requests.get(URL)"
      ],
      "metadata": {
        "id": "vJWODXM5Efal"
      },
      "execution_count": null,
      "outputs": []
    },
    {
      "cell_type": "code",
      "source": [
        "r = response.json() # response.text\n",
        "r"
      ],
      "metadata": {
        "id": "JZE-TxikEjeI"
      },
      "execution_count": null,
      "outputs": []
    },
    {
      "cell_type": "code",
      "source": [
        "item = r['response']['body']['items']['item']\n",
        "\n",
        "itmsNm = [x['itmsNm'] for x in item]\n",
        "clpr = [x['clpr'] for x in item]\n",
        "hipr = [x['hipr'] for x in item]\n",
        "lopr = [x['lopr'] for x in item]\n",
        "srtnCd = [x['srtnCd'] for x in item]\n",
        "mrktTotAmt = [x['mrktTotAmt'] for x in item]\n",
        "mrktCtg = [x['mrktCtg'] for x in item]\n",
        "lstgStCnt = [x['lstgStCnt'] for x in item]\n",
        "\n",
        "itmsNm = pd.Series(itmsNm)\n",
        "clpr = pd.Series(clpr)\n",
        "hipr = pd.Series(hipr)   \n",
        "lopr = pd.Series(lopr)\n",
        "srtnCd = pd.Series(srtnCd)\n",
        "mrktTotAmt = pd.Series(mrktTotAmt)\n",
        "mrktCtg = pd.Series(mrktCtg)\n",
        "lstgStCnt = pd.Series(lstgStCnt)\n",
        "\n",
        "df = pd.DataFrame({ '종목명': itmsNm, '최종가': clpr, '최고가': hipr, '최저가': lopr, '종목코드': srtnCd, '주가총액': mrktTotAmt, '시장구분': mrktCtg, '상장주식수': lstgStCnt})"
      ],
      "metadata": {
        "id": "qqUavarKEmPP"
      },
      "execution_count": null,
      "outputs": []
    },
    {
      "cell_type": "code",
      "source": [
        "df"
      ],
      "metadata": {
        "id": "He12ssqBEqNu"
      },
      "execution_count": null,
      "outputs": []
    },
    {
      "cell_type": "code",
      "source": [
        "def test(input1, input2):\n",
        "  URL = ('https://api.odcloud.kr/api/GetStockSecuritiesInfoService/v1/getStockPriceInfo?'\n",
        "        'resultType=json'\n",
        "        '&'+input1+'='+input2+''\n",
        "        '&serviceKey=miH%2BZXg85lQy4%2FkmhffvygXDIFiTwisriSLxtyECSzw6hxTVK7yI8QKIOc7mP7LEqCnhBGuj6iW1gZW65dum7A%3D%3D')\n",
        "  response = requests.get(URL)  \n",
        "  r = response.json()\n",
        "  item = r['response']['body']['items']['item']\n",
        "\n",
        "  itmsNm = [x['itmsNm'] for x in item]\n",
        "  clpr = [x['clpr'] for x in item]\n",
        "  hipr = [x['hipr'] for x in item]\n",
        "  lopr = [x['lopr'] for x in item]\n",
        "  srtnCd = [x['srtnCd'] for x in item]\n",
        "  mrktTotAmt = [x['mrktTotAmt'] for x in item]\n",
        "  mrktCtg = [x['mrktCtg'] for x in item]\n",
        "  lstgStCnt = [x['lstgStCnt'] for x in item]\n",
        "\n",
        "  itmsNm = pd.Series(itmsNm)\n",
        "  clpr = pd.Series(clpr)\n",
        "  hipr = pd.Series(hipr)   \n",
        "  lopr = pd.Series(lopr)\n",
        "  srtnCd = pd.Series(srtnCd)\n",
        "  mrktTotAmt = pd.Series(mrktTotAmt)\n",
        "  mrktCtg = pd.Series(mrktCtg)\n",
        "  lstgStCnt = pd.Series(lstgStCnt)\n",
        "\n",
        "  df = pd.DataFrame({ '종목명': itmsNm, '최종가': clpr, '최고가': hipr, '최저가': lopr, '종목코드': srtnCd, '주가총액': mrktTotAmt, '시장구분': mrktCtg, '상장주식수': lstgStCnt})\n",
        "  return df"
      ],
      "metadata": {
        "id": "yc1c2ZEiEs63"
      },
      "execution_count": null,
      "outputs": []
    },
    {
      "cell_type": "code",
      "source": [
        "iface = gr.Interface(test, inputs = ['text', 'text'], outputs='dataframe')\n",
        "iface.launch(debug=True)"
      ],
      "metadata": {
        "id": "11n8bIB-Ewdm"
      },
      "execution_count": null,
      "outputs": []
    }
  ]
}