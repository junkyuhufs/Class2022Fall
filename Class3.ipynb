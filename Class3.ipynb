{
  "nbformat": 4,
  "nbformat_minor": 0,
  "metadata": {
    "colab": {
      "provenance": [],
      "authorship_tag": "ABX9TyN4qG4jUFO4XNnSipwJkvTS",
      "include_colab_link": true
    },
    "kernelspec": {
      "name": "python3",
      "display_name": "Python 3"
    },
    "language_info": {
      "name": "python"
    }
  },
  "cells": [
    {
      "cell_type": "markdown",
      "metadata": {
        "id": "view-in-github",
        "colab_type": "text"
      },
      "source": [
        "<a href=\"https://colab.research.google.com/github/junkyuhufs/Class2022Fall/blob/main/Class3.ipynb\" target=\"_parent\"><img src=\"https://colab.research.google.com/assets/colab-badge.svg\" alt=\"Open In Colab\"/></a>"
      ]
    },
    {
      "cell_type": "markdown",
      "source": [
        "#numpy & matplotlib packages"
      ],
      "metadata": {
        "id": "uEcQbN08UA_l"
      }
    },
    {
      "cell_type": "markdown",
      "source": [
        "##create nd arrays (≈matrices);  nd = n-dimensional"
      ],
      "metadata": {
        "id": "-jMdozTuUK69"
      }
    },
    {
      "cell_type": "code",
      "source": [
        "import numpy as np"
      ],
      "metadata": {
        "id": "9xquvkiVUKCR"
      },
      "execution_count": 1,
      "outputs": []
    },
    {
      "cell_type": "markdown",
      "source": [
        "###1-d array"
      ],
      "metadata": {
        "id": "y_tT2TV2Wssb"
      }
    },
    {
      "cell_type": "markdown",
      "source": [
        "array >> list를 nd-arry형태로 변환"
      ],
      "metadata": {
        "id": "qd-ObjwBXKnb"
      }
    },
    {
      "cell_type": "code",
      "execution_count": null,
      "metadata": {
        "id": "wf_865nGT5t8"
      },
      "outputs": [],
      "source": [
        "x = np.array([1,2,3])\n",
        "print(x)\n",
        "print(type(x))\n",
        "print(x.shape)"
      ]
    },
    {
      "cell_type": "markdown",
      "source": [
        "NOT arrange; arange >>> 숫자 3개; 첫 두 숫자는 범위(두번째 숫자 미포함), 마지막 숫자는 increment"
      ],
      "metadata": {
        "id": "yIRADX5OWzgz"
      }
    },
    {
      "cell_type": "code",
      "source": [
        "x = np.arange(0,10,2)\n",
        "print(x)\n",
        "print(type(x))\n",
        "print(x.shape)"
      ],
      "metadata": {
        "id": "qj7VFqfFWwBD"
      },
      "execution_count": null,
      "outputs": []
    },
    {
      "cell_type": "markdown",
      "source": [
        "linspace (linear space)>> 첫 두 숫자는 범위 (두번째 숫자 포함), 마지막 숫자는 등분하여 생성할 숫자 갯수"
      ],
      "metadata": {
        "id": "e9as-IlaX4QM"
      }
    },
    {
      "cell_type": "code",
      "source": [
        "x = np.linspace(0,10,6)\n",
        "print(x)\n",
        "print(type(x))\n",
        "print(x.shape)"
      ],
      "metadata": {
        "id": "hnQbhC_rX0jL"
      },
      "execution_count": null,
      "outputs": []
    },
    {
      "cell_type": "markdown",
      "source": [
        "##2-d array"
      ],
      "metadata": {
        "id": "HbiWtJv3Y2v4"
      }
    },
    {
      "cell_type": "code",
      "source": [
        "x = np.array([[1,2,3], [4,5,6]])\n",
        "print(x)\n",
        "print(type(x))\n",
        "print(x.shape)"
      ],
      "metadata": {
        "id": "_3cKuFI_Y6GP"
      },
      "execution_count": null,
      "outputs": []
    },
    {
      "cell_type": "markdown",
      "source": [
        "##3-d array"
      ],
      "metadata": {
        "id": "Qq7gpFjIZJcn"
      }
    },
    {
      "cell_type": "code",
      "source": [
        "x = np.array([[[1,2,3], [4,5,6]], [[7,8,9], [10,11,12]]])\n",
        "print(x)\n",
        "print(type(x))\n",
        "print(x.shape)"
      ],
      "metadata": {
        "id": "oCgMguzRZAfY"
      },
      "execution_count": null,
      "outputs": []
    },
    {
      "cell_type": "markdown",
      "source": [
        "ones >> 원하는 메트릭스를 만들고, 1로 채우기"
      ],
      "metadata": {
        "id": "ozdu7txYZ0gh"
      }
    },
    {
      "cell_type": "code",
      "source": [
        "x = np.ones([2, 2, 3])\n",
        "print(x)\n",
        "print(type(x))\n",
        "print(x.shape)"
      ],
      "metadata": {
        "id": "lIBKtK9ZZy2J"
      },
      "execution_count": null,
      "outputs": []
    },
    {
      "cell_type": "markdown",
      "source": [
        "zeros >> 원하는 메트리스를 만들고, 0으로 채우기"
      ],
      "metadata": {
        "id": "j7Id6oSNaTYx"
      }
    },
    {
      "cell_type": "code",
      "source": [
        "x = np.zeros([2, 2, 3])\n",
        "print(x)\n",
        "print(type(x))\n",
        "print(x.shape)"
      ],
      "metadata": {
        "id": "xUf_cXcpaAma"
      },
      "execution_count": null,
      "outputs": []
    },
    {
      "cell_type": "markdown",
      "source": [
        "reshape >> 행렬형태 바꾸기"
      ],
      "metadata": {
        "id": "24srgo4wam7C"
      }
    },
    {
      "cell_type": "code",
      "source": [
        "x = np.zeros([2, 2, 3])\n",
        "print(x)\n",
        "x.reshape(3,2,2)"
      ],
      "metadata": {
        "id": "EzhEwEMbagZ6"
      },
      "execution_count": null,
      "outputs": []
    },
    {
      "cell_type": "markdown",
      "source": [
        "#create random numbers"
      ],
      "metadata": {
        "id": "SoGU5C49azkC"
      }
    },
    {
      "cell_type": "markdown",
      "source": [
        "[np.random.normal 함수](https://numpy.org/doc/stable/reference/random/generated/numpy.random.normal.html)"
      ],
      "metadata": {
        "id": "bNV2qTbDbY0e"
      }
    },
    {
      "cell_type": "code",
      "source": [
        "np.random.normal(0, 1, [2,3,4])"
      ],
      "metadata": {
        "id": "OdCzusBMa1Xq"
      },
      "execution_count": null,
      "outputs": []
    },
    {
      "cell_type": "code",
      "source": [
        "import matplotlib.pyplot as plt"
      ],
      "metadata": {
        "id": "7BYBzMgPbszw"
      },
      "execution_count": 15,
      "outputs": []
    },
    {
      "cell_type": "markdown",
      "source": [
        "bins >> 통의 갯수"
      ],
      "metadata": {
        "id": "YTcqdQLsb6uu"
      }
    },
    {
      "cell_type": "code",
      "source": [
        "x = np.random.normal(0, 1, 100)\n",
        "print(x)\n",
        "plt.hist(x, bins=10)"
      ],
      "metadata": {
        "id": "O-fj_5fHbzkN"
      },
      "execution_count": null,
      "outputs": []
    }
  ]
}