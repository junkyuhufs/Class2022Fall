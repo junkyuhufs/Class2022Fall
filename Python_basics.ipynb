{
  "nbformat": 4,
  "nbformat_minor": 0,
  "metadata": {
    "colab": {
      "provenance": [],
      "authorship_tag": "ABX9TyMFEyLzf5Vd4aQOCeoOr92T",
      "include_colab_link": true
    },
    "kernelspec": {
      "name": "python3",
      "display_name": "Python 3"
    },
    "language_info": {
      "name": "python"
    }
  },
  "cells": [
    {
      "cell_type": "markdown",
      "metadata": {
        "id": "view-in-github",
        "colab_type": "text"
      },
      "source": [
        "<a href=\"https://colab.research.google.com/github/junkyuhufs/Class2022Fall/blob/main/Python_basics.ipynb\" target=\"_parent\"><img src=\"https://colab.research.google.com/assets/colab-badge.svg\" alt=\"Open In Colab\"/></a>"
      ]
    },
    {
      "cell_type": "markdown",
      "source": [
        "#Python Basics\n",
        "\n",
        "A courtesy of Drs. Hosung Nam (Korea Univ.), Miran Kim (GNU), Minjung Son (Hannam Univ.)"
      ],
      "metadata": {
        "id": "iQnbwFluPgGT"
      }
    },
    {
      "cell_type": "markdown",
      "source": [
        "##Defining Variables\n",
        "\n",
        "Types of variables: Integers, floating numbers, and strings"
      ],
      "metadata": {
        "id": "YoS06yCuPnFj"
      }
    },
    {
      "cell_type": "code",
      "execution_count": null,
      "metadata": {
        "id": "DrOu4v9CPeao"
      },
      "outputs": [],
      "source": [
        "# x = 3    'Integer 3 is assigned to the variable 'x'\n",
        "# y = 3.0  'Floating number 3.0 is assigned to the variable 'y'\n",
        "# z = \"3\"  'String \"3\" is assigned to the variable 'z' \n",
        "# single or double quotes for string (both ends should match.)\n",
        "\n",
        "x = 3             # variable 'x' type: integer 'int'\n",
        "y = 3.0           # variable 'y' type: floating number 'float'\n",
        "z = \"3\"           # variable 'z' type: string 'str'\n",
        "Z = 'Character'   # variable 'Z'(capital) type: string 'str'\n",
        "\n",
        "print(type(x))\n",
        "print(type(y))\n",
        "print(type(z))\n",
        "print(type(Z))"
      ]
    },
    {
      "cell_type": "markdown",
      "source": [
        "##Indexing for strings and lists\n",
        "첫자리는 0 (Not 1)"
      ],
      "metadata": {
        "id": "hxFXHtIdSvby"
      }
    },
    {
      "cell_type": "code",
      "source": [
        "a = '123'; print(type(a)); print(a[1])"
      ],
      "metadata": {
        "id": "ZzfoM9B0TrqZ"
      },
      "execution_count": null,
      "outputs": []
    },
    {
      "cell_type": "code",
      "source": [
        "a = 'hello'; print(type(a)); print(a[1])"
      ],
      "metadata": {
        "id": "y2PZcAWETq2b"
      },
      "execution_count": null,
      "outputs": []
    },
    {
      "cell_type": "markdown",
      "source": [
        "[2] Data types\n",
        "Data type is an important concept. Variables can store data of different types, and different types can do different things. Python has the following data types built-in by default:\n",
        "\n",
        "#Data Types\t\n",
        "\n",
        "  Text Type:\tstr(ing)\n",
        "\n",
        "  Numeric Types:\tint(eger), float(ing)\n",
        "\n",
        "  Sequence Types:\tlist, tuple, range\n",
        "\n",
        "  Mapping Type:\tdict(ionary)\n",
        "\n",
        "🔳 Commonly used types of data: (string, integer, floating numbers), list, dictionary, (tuple)\n",
        "\n",
        "📍 List data handling\n",
        "\n",
        "Accessing items in a listdata\n",
        "\n",
        "Replace items\n",
        "\n",
        "Adding items\n",
        "\n",
        "Inserting items"
      ],
      "metadata": {
        "id": "5JEynz8lU0js"
      }
    },
    {
      "cell_type": "code",
      "source": [
        "# List: list [1, 2, 3, 4, 5] or [\"Python\", \"is\", \"awesome\"]\n",
        "\n",
        "listdata = [1, 2, 3, 4, 5]\n",
        "type(listdata)"
      ],
      "metadata": {
        "id": "qzeHPvgOVRMP"
      },
      "execution_count": null,
      "outputs": []
    },
    {
      "cell_type": "code",
      "source": [
        "# Accessing the data: List data\n",
        "\n",
        "print(listdata[0])  # 1st element of the list\n",
        "print(listdata[1])  # 2nd element\n",
        "print(listdata[2])  # 3rd element\n",
        "print(listdata[3])  # 4th element\n",
        "print(listdata[4])  # 5th element\n",
        "\n",
        "# Negative indexing means start from the end\n",
        "\n",
        "print(listdata[-1]) # 1st from the end\n",
        "print(listdata[-2])\n",
        "print(listdata[-3])\n",
        "print(listdata[-4])\n",
        "print(listdata[-5])"
      ],
      "metadata": {
        "id": "7eNnPND8X5Iq"
      },
      "execution_count": null,
      "outputs": []
    },
    {
      "cell_type": "markdown",
      "source": [
        "🔸 Range of Indexes\n",
        "\n",
        "You can specify a range of indexes by specifying where to start and where to end the range. When specifying a range, the return value will be a new list with the specified items."
      ],
      "metadata": {
        "id": "y964UVqtYKpX"
      }
    },
    {
      "cell_type": "code",
      "source": [
        "fruitlist = [\"apple\", \"banana\", \"cherry\", \"orange\", \"kiwi\", \"melon\", \"mango\"]\n",
        "print(fruitlist[2:5])   # From 2nd to the element before the 5th (excluding)\n",
        "print(fruitlist[:5])    # From the 1st to the element before the 5th (excluding)\n",
        "print(fruitlist[-4:-1]) # the first from the end is excluded.\n",
        "print(fruitlist[-4:])"
      ],
      "metadata": {
        "id": "LW4zjKAzYMhi"
      },
      "execution_count": null,
      "outputs": []
    },
    {
      "cell_type": "code",
      "source": [
        "# Change item values:\n",
        "\n",
        "fruitlist = [\"apple\", \"banana\", \"cherry\", \"orange\"]\n",
        "fruitlist[1] = \"grapes\"\n",
        "\n",
        "print(fruitlist[1])\n",
        "print(fruitlist)"
      ],
      "metadata": {
        "colab": {
          "base_uri": "https://localhost:8080/"
        },
        "id": "InCzmkKIY2Qk",
        "outputId": "6c079189-b121-4aa9-95b2-c38baaa7a1a4"
      },
      "execution_count": 12,
      "outputs": [
        {
          "output_type": "stream",
          "name": "stdout",
          "text": [
            "grapes\n",
            "['apple', 'grapes', 'cherry', 'orange']\n"
          ]
        }
      ]
    },
    {
      "cell_type": "code",
      "source": [
        "# Change multiple item values:\n",
        "fruitlist = [\"apple\", \"banana\", \"cherry\", \"orange\", \"kiwi\"]\n",
        "fruitlist[1:3] = [\"grapes\",\"banana\"]\n",
        "\n",
        "print(fruitlist)"
      ],
      "metadata": {
        "colab": {
          "base_uri": "https://localhost:8080/"
        },
        "id": "FopjAQgbZ4XI",
        "outputId": "009703f3-9834-41e1-b0cc-795b5df12f0c"
      },
      "execution_count": 13,
      "outputs": [
        {
          "output_type": "stream",
          "name": "stdout",
          "text": [
            "['apple', 'grapes', 'banana', 'orange', 'kiwi']\n"
          ]
        }
      ]
    },
    {
      "cell_type": "code",
      "source": [
        "# Add items: append\n",
        "fruitlist = [\"apple\", \"banana\", \"cherry\", \"orange\", \"kiwi\"]\n",
        "\n",
        "fruitlist.append(\"blueberry\")\n",
        "print(fruitlist)\n",
        "\n",
        "# Length of items in a list: len()\n",
        "\n",
        "len(fruitlist)"
      ],
      "metadata": {
        "id": "_QXTOHmvZcKA"
      },
      "execution_count": null,
      "outputs": []
    },
    {
      "cell_type": "code",
      "source": [
        "# Add an item in a specific location: listdata.insert()\n",
        "\n",
        "fruitlist = [\"apple\", \"banana\", \"cherry\"]\n",
        "fruitlist.insert(0, \"blueberry\")\n",
        "fruitlist.insert(2, \"raspberry\")\n",
        "print(fruitlist)"
      ],
      "metadata": {
        "colab": {
          "base_uri": "https://localhost:8080/"
        },
        "id": "F6AgcDp0Z9Mv",
        "outputId": "c82d6ae8-e67d-4fa9-c767-f3b7eb1bde24"
      },
      "execution_count": 15,
      "outputs": [
        {
          "output_type": "stream",
          "name": "stdout",
          "text": [
            "['blueberry', 'apple', 'raspberry', 'banana', 'cherry']\n"
          ]
        }
      ]
    },
    {
      "cell_type": "code",
      "source": [
        "# Remove items:\n",
        "\n",
        "fruitlist = [\"apple\", \"banana\", \"cherry\"]\n",
        "\n",
        "fruitlist.remove(\"banana\")\n",
        "print(fruitlist)"
      ],
      "metadata": {
        "id": "WRerioqnaO7a"
      },
      "execution_count": null,
      "outputs": []
    },
    {
      "cell_type": "code",
      "source": [
        "# Remove specific items: (1) .pop()\n",
        "\n",
        "fruitlist = [\"apple\", \"banana\", \"cherry\"]\n",
        "fruitlist.pop(2)  # Remove the 3rd item\n",
        "print(fruitlist)\n",
        "\n",
        "# Remove specific index: (2) del \n",
        "\n",
        "del fruitlist[0]\n",
        "print(fruitlist)"
      ],
      "metadata": {
        "colab": {
          "base_uri": "https://localhost:8080/"
        },
        "id": "ReGZi7EXaQAv",
        "outputId": "8f8cfffa-3e38-4cf6-9ca1-fc144dc05580"
      },
      "execution_count": 17,
      "outputs": [
        {
          "output_type": "stream",
          "name": "stdout",
          "text": [
            "['apple', 'banana']\n",
            "['banana']\n"
          ]
        }
      ]
    }
  ]
}