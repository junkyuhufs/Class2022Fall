{
  "nbformat": 4,
  "nbformat_minor": 0,
  "metadata": {
    "colab": {
      "provenance": [],
      "authorship_tag": "ABX9TyPh7jBA98NkfS44gQpJSamd",
      "include_colab_link": true
    },
    "kernelspec": {
      "name": "python3",
      "display_name": "Python 3"
    },
    "language_info": {
      "name": "python"
    }
  },
  "cells": [
    {
      "cell_type": "markdown",
      "metadata": {
        "id": "view-in-github",
        "colab_type": "text"
      },
      "source": [
        "<a href=\"https://colab.research.google.com/github/junkyuhufs/Class2022Fall/blob/main/Python_basics.ipynb\" target=\"_parent\"><img src=\"https://colab.research.google.com/assets/colab-badge.svg\" alt=\"Open In Colab\"/></a>"
      ]
    },
    {
      "cell_type": "markdown",
      "source": [
        "##Python Basics"
      ],
      "metadata": {
        "id": "iQnbwFluPgGT"
      }
    },
    {
      "cell_type": "markdown",
      "source": [
        "#Defining Variables\n",
        "\n",
        "Types of variables: Integers, floating numbers, and strings"
      ],
      "metadata": {
        "id": "YoS06yCuPnFj"
      }
    },
    {
      "cell_type": "code",
      "execution_count": null,
      "metadata": {
        "id": "DrOu4v9CPeao"
      },
      "outputs": [],
      "source": [
        "# x = 3    'Integer 3 is assigned to the variable 'x'\n",
        "# y = 3.0  'Floating number 3.0 is assigned to the variable 'y'\n",
        "# z = \"3\"  'String \"3\" is assigned to the variable 'z' \n",
        "# single or double quotes for string (both ends should match.)\n",
        "\n",
        "x = 3             # variable 'x' type: integer 'int'\n",
        "y = 3.0           # variable 'y' type: floating number 'float'\n",
        "z = \"3\"           # variable 'z' type: string 'str'\n",
        "Z = 'Character'   # variable 'Z'(capital) type: string 'str'\n",
        "\n",
        "print(type(x))\n",
        "print(type(y))\n",
        "print(type(z))\n",
        "print(type(Z))"
      ]
    }
  ]
}