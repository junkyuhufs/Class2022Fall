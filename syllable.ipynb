{
  "nbformat": 4,
  "nbformat_minor": 0,
  "metadata": {
    "colab": {
      "provenance": [],
      "authorship_tag": "ABX9TyNcVj4LtiM4pdunEIhn2sdE",
      "include_colab_link": true
    },
    "kernelspec": {
      "name": "python3",
      "display_name": "Python 3"
    },
    "language_info": {
      "name": "python"
    },
    "accelerator": "GPU",
    "gpuClass": "standard"
  },
  "cells": [
    {
      "cell_type": "markdown",
      "metadata": {
        "id": "view-in-github",
        "colab_type": "text"
      },
      "source": [
        "<a href=\"https://colab.research.google.com/github/junkyuhufs/Class2022Fall/blob/main/syllable.ipynb\" target=\"_parent\"><img src=\"https://colab.research.google.com/assets/colab-badge.svg\" alt=\"Open In Colab\"/></a>"
      ]
    },
    {
      "cell_type": "code",
      "execution_count": 1,
      "metadata": {
        "id": "5BfckUNA29yI"
      },
      "outputs": [],
      "source": [
        "import pandas as pd"
      ]
    },
    {
      "cell_type": "code",
      "source": [
        "df = pd.DataFrame(['Cat', 'DOG', 'bike'], columns=['words'])\n",
        "# use string.replace\n",
        "df['new_word'] = df['words'].str.lower().str.replace(r\"[^aeiuo]\", 'c').str.replace(r\"[aeiou]\", 'v')\n",
        "print(df)"
      ],
      "metadata": {
        "id": "5RBQ9PFK3GmK"
      },
      "execution_count": null,
      "outputs": []
    },
    {
      "cell_type": "code",
      "source": [
        "word = 'yoyo'\n",
        "\n",
        "for i in word.lower():\n",
        "    if i in \"aeiou\":\n",
        "       word=word.replace(i ,'v')\n",
        "    else:\n",
        "        word=word.replace(i ,'c')\n",
        "print(word)"
      ],
      "metadata": {
        "id": "ParYrOkI4gve"
      },
      "execution_count": null,
      "outputs": []
    }
  ]
}